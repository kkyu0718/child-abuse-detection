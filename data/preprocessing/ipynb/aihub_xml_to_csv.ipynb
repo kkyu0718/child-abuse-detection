{
  "nbformat": 4,
  "nbformat_minor": 0,
  "metadata": {
    "kernelspec": {
      "display_name": "Python [conda env:machinelearning] *",
      "language": "python",
      "name": "conda-env-machinelearning-py"
    },
    "language_info": {
      "codemirror_mode": {
        "name": "ipython",
        "version": 3
      },
      "file_extension": ".py",
      "mimetype": "text/x-python",
      "name": "python",
      "nbconvert_exporter": "python",
      "pygments_lexer": "ipython3",
      "version": "3.7.7"
    },
    "colab": {
      "name": "xml_to_csv.ipynb",
      "provenance": []
    }
  },
  "cells": [
    {
      "cell_type": "code",
      "metadata": {
        "colab": {
          "base_uri": "https://localhost:8080/"
        },
        "id": "D1U6pU5N5qMK",
        "outputId": "495a8869-af46-4841-eb05-6ae923b7552a"
      },
      "source": [
        "from google.colab import drive \n",
        "drive.mount('/gdrive')"
      ],
      "execution_count": null,
      "outputs": [
        {
          "output_type": "stream",
          "text": [
            "Mounted at /gdrive\n"
          ],
          "name": "stdout"
        }
      ]
    },
    {
      "cell_type": "code",
      "metadata": {
        "id": "iiBr9CJ95aRC"
      },
      "source": [
        "import requests\n",
        "from bs4 import BeautifulSoup\n",
        "from lxml import html\n",
        "from urllib.request import Request,urlopen\n",
        "from urllib.parse import urlencode,quote_plus,unquote\n",
        "import pandas as pd\n",
        "import math\n",
        "import xml.etree.ElementTree as ET"
      ],
      "execution_count": null,
      "outputs": []
    },
    {
      "cell_type": "code",
      "metadata": {
        "id": "vGEy97NS5aRF"
      },
      "source": [
        "# 시간 단위"
      ],
      "execution_count": null,
      "outputs": []
    },
    {
      "cell_type": "code",
      "metadata": {
        "id": "HYdTi4Ba9Fg3"
      },
      "source": [
        "import openpyxl\n",
        "import xml.etree.ElementTree as ET\n",
        "import pandas as pd\n",
        "import glob\n",
        "import numpy as np"
      ],
      "execution_count": null,
      "outputs": []
    },
    {
      "cell_type": "code",
      "metadata": {
        "id": "uef7f7of5aRG"
      },
      "source": [
        "def event_extraction(path,name):# load and parse the file\n",
        "    fname = name#= input('Enter File Name: ')\n",
        "    xmlTree = ET.parse(path)#'C:/Users/user/Downloads/'+fname+'.xml') #경로 수정해야 해요\n",
        "    \n",
        "    #xmlTree\n",
        "    #print('Import successful!')\n",
        "    #print('Parsing XML file...')\n",
        "    #print(\"XML file parsed successfully!\")\n",
        "\n",
        "    x = []\n",
        "\n",
        "    for ele in xmlTree.findall('./event'):\n",
        "        l = {}\n",
        "        for i in ele.getchildren():\n",
        "            l.update({'fname':fname,i.tag:i.text})\n",
        "            #print(i.tag)\n",
        "        x.append(l)\n",
        "    #print(x)\n",
        "    #print(\"Creating DataFrame...\")\n",
        "    df = pd.DataFrame(x)\n",
        "    return df\n",
        "    #print(\"DataFrame created successfully!\")\n",
        "    #if(df.to_excel(fname+'.xlsx', sheet_name='sheet1', index='False')):\n",
        "    #    print(\"File Created Successfully!\")\n",
        "    #df"
      ],
      "execution_count": null,
      "outputs": []
    },
    {
      "cell_type": "code",
      "metadata": {
        "id": "VLEFHMjp9o5t"
      },
      "source": [
        "# xml file path\n",
        "path = '/gdrive/Shareddrives/2021청년인재_고려대과정_10조/Data/AIHub/'\n",
        "events = list()\n",
        "xml_list = glob.glob(path+'**/*.xml',recursive=True)\n",
        "\n",
        "for idx, xml_file in enumerate(xml_list):\n",
        "    print('\\r{}/{}'.format(idx,len(xml_list)))\n",
        "    events.append(event_extraction(xml_file,xml_file.split(path)[-1]))\n",
        "\n",
        "\n",
        "events = np.array(events)\n",
        "aihub_events = pd.DataFrame(events.reshape(1283,4))"
      ],
      "execution_count": null,
      "outputs": []
    },
    {
      "cell_type": "code",
      "metadata": {
        "colab": {
          "base_uri": "https://localhost:8080/",
          "height": 414
        },
        "id": "87_zkUvdBJ8s",
        "outputId": "b57baab2-8246-4af9-a684-e3707929384b"
      },
      "source": [
        "aihub_events"
      ],
      "execution_count": null,
      "outputs": [
        {
          "output_type": "execute_result",
          "data": {
            "text/html": [
              "<div>\n",
              "<style scoped>\n",
              "    .dataframe tbody tr th:only-of-type {\n",
              "        vertical-align: middle;\n",
              "    }\n",
              "\n",
              "    .dataframe tbody tr th {\n",
              "        vertical-align: top;\n",
              "    }\n",
              "\n",
              "    .dataframe thead th {\n",
              "        text-align: right;\n",
              "    }\n",
              "</style>\n",
              "<table border=\"1\" class=\"dataframe\">\n",
              "  <thead>\n",
              "    <tr style=\"text-align: right;\">\n",
              "      <th></th>\n",
              "      <th>0</th>\n",
              "      <th>1</th>\n",
              "      <th>2</th>\n",
              "      <th>3</th>\n",
              "    </tr>\n",
              "  </thead>\n",
              "  <tbody>\n",
              "    <tr>\n",
              "      <th>0</th>\n",
              "      <td>inside_croki_02/24-5/24-5_cam01_assault01_plac...</td>\n",
              "      <td>assault</td>\n",
              "      <td>00:01:11.4</td>\n",
              "      <td>00:03:02.8</td>\n",
              "    </tr>\n",
              "    <tr>\n",
              "      <th>1</th>\n",
              "      <td>inside_croki_02/24-5/24-5_cam02_assault01_plac...</td>\n",
              "      <td>assault</td>\n",
              "      <td>00:01:13.1</td>\n",
              "      <td>00:03:10.7</td>\n",
              "    </tr>\n",
              "    <tr>\n",
              "      <th>2</th>\n",
              "      <td>inside_croki_02/24-5/24-5_cam02_assault01_plac...</td>\n",
              "      <td>assault</td>\n",
              "      <td>00:01:16.3</td>\n",
              "      <td>00:02:52.0</td>\n",
              "    </tr>\n",
              "    <tr>\n",
              "      <th>3</th>\n",
              "      <td>inside_croki_02/24-5/24-5_cam01_assault01_plac...</td>\n",
              "      <td>assault</td>\n",
              "      <td>00:01:16.2</td>\n",
              "      <td>00:02:51.8</td>\n",
              "    </tr>\n",
              "    <tr>\n",
              "      <th>4</th>\n",
              "      <td>inside_croki_02/24-5/24-5_cam03_assault01_plac...</td>\n",
              "      <td>assault</td>\n",
              "      <td>00:01:16.7</td>\n",
              "      <td>00:02:52.4</td>\n",
              "    </tr>\n",
              "    <tr>\n",
              "      <th>...</th>\n",
              "      <td>...</td>\n",
              "      <td>...</td>\n",
              "      <td>...</td>\n",
              "      <td>...</td>\n",
              "    </tr>\n",
              "    <tr>\n",
              "      <th>1278</th>\n",
              "      <td>outsidedoor_01/12-5/12-5_cam01_assault01_place...</td>\n",
              "      <td>assault</td>\n",
              "      <td>00:02:08.8</td>\n",
              "      <td>00:01:40.2</td>\n",
              "    </tr>\n",
              "    <tr>\n",
              "      <th>1279</th>\n",
              "      <td>outsidedoor_01/11-4/11-4_cam02_assault01_place...</td>\n",
              "      <td>assault</td>\n",
              "      <td>00:00:45.0</td>\n",
              "      <td>00:03:59.4</td>\n",
              "    </tr>\n",
              "    <tr>\n",
              "      <th>1280</th>\n",
              "      <td>outsidedoor_01/11-4/11-4_cam01_assault01_place...</td>\n",
              "      <td>assault</td>\n",
              "      <td>00:00:44.4</td>\n",
              "      <td>00:04:01.0</td>\n",
              "    </tr>\n",
              "    <tr>\n",
              "      <th>1281</th>\n",
              "      <td>outsidedoor_01/11-4/11-4_cam02_assault01_place...</td>\n",
              "      <td>assault</td>\n",
              "      <td>00:00:46.7</td>\n",
              "      <td>00:04:48.1</td>\n",
              "    </tr>\n",
              "    <tr>\n",
              "      <th>1282</th>\n",
              "      <td>outsidedoor_01/11-4/11-4_cam01_assault01_place...</td>\n",
              "      <td>assault</td>\n",
              "      <td>00:01:01.2</td>\n",
              "      <td>00:04:37.8</td>\n",
              "    </tr>\n",
              "  </tbody>\n",
              "</table>\n",
              "<p>1283 rows × 4 columns</p>\n",
              "</div>"
            ],
            "text/plain": [
              "                                                      0  ...           3\n",
              "0     inside_croki_02/24-5/24-5_cam01_assault01_plac...  ...  00:03:02.8\n",
              "1     inside_croki_02/24-5/24-5_cam02_assault01_plac...  ...  00:03:10.7\n",
              "2     inside_croki_02/24-5/24-5_cam02_assault01_plac...  ...  00:02:52.0\n",
              "3     inside_croki_02/24-5/24-5_cam01_assault01_plac...  ...  00:02:51.8\n",
              "4     inside_croki_02/24-5/24-5_cam03_assault01_plac...  ...  00:02:52.4\n",
              "...                                                 ...  ...         ...\n",
              "1278  outsidedoor_01/12-5/12-5_cam01_assault01_place...  ...  00:01:40.2\n",
              "1279  outsidedoor_01/11-4/11-4_cam02_assault01_place...  ...  00:03:59.4\n",
              "1280  outsidedoor_01/11-4/11-4_cam01_assault01_place...  ...  00:04:01.0\n",
              "1281  outsidedoor_01/11-4/11-4_cam02_assault01_place...  ...  00:04:48.1\n",
              "1282  outsidedoor_01/11-4/11-4_cam01_assault01_place...  ...  00:04:37.8\n",
              "\n",
              "[1283 rows x 4 columns]"
            ]
          },
          "metadata": {
            "tags": []
          },
          "execution_count": 45
        }
      ]
    },
    {
      "cell_type": "code",
      "metadata": {
        "id": "unM6w--HBJ6W"
      },
      "source": [
        "aihub_events.columns=['fname','type','start','end']#{0:'fname',1:'type',2:'start',3:'end'})"
      ],
      "execution_count": null,
      "outputs": []
    },
    {
      "cell_type": "code",
      "metadata": {
        "id": "VcQK5YbMBJ39"
      },
      "source": [
        "aihub_events.to_csv('/gdrive/Shareddrives/2021청년인재_고려대과정_10조/Data/AIHub/events_time.csv')"
      ],
      "execution_count": null,
      "outputs": []
    },
    {
      "cell_type": "code",
      "metadata": {
        "id": "ImCZzZByBJwx"
      },
      "source": [
        ""
      ],
      "execution_count": null,
      "outputs": []
    },
    {
      "cell_type": "code",
      "metadata": {
        "id": "RpMSSIFa5aRI"
      },
      "source": [
        "def time_to_sec(time_str):\n",
        "    return sum(x * int(t) for x, t in zip([1, 60, 3600], reversed(time_str.split(\":\"))))"
      ],
      "execution_count": null,
      "outputs": []
    },
    {
      "cell_type": "code",
      "metadata": {
        "id": "DluIiajt5aRI"
      },
      "source": [
        "def throw_ms(x):\n",
        "    idx=x.find('.')\n",
        "    return time_to_sec(x[:idx])"
      ],
      "execution_count": null,
      "outputs": []
    },
    {
      "cell_type": "code",
      "metadata": {
        "id": "tk9dVeg65aRJ"
      },
      "source": [
        "df['start_seconds']=''\n",
        "df['duration_seconds']=''\n",
        "df['start_seconds']=df['starttime'].apply(lambda x: throw_ms(x))\n",
        "df['duration_seconds']=df['duration'].apply(lambda x: throw_ms(x))"
      ],
      "execution_count": null,
      "outputs": []
    },
    {
      "cell_type": "code",
      "metadata": {
        "id": "QatBOswM5aRJ",
        "outputId": "ad4e40f7-e167-4502-b724-d534e493d3db"
      },
      "source": [
        "df"
      ],
      "execution_count": null,
      "outputs": [
        {
          "output_type": "execute_result",
          "data": {
            "text/html": [
              "<div>\n",
              "<style scoped>\n",
              "    .dataframe tbody tr th:only-of-type {\n",
              "        vertical-align: middle;\n",
              "    }\n",
              "\n",
              "    .dataframe tbody tr th {\n",
              "        vertical-align: top;\n",
              "    }\n",
              "\n",
              "    .dataframe thead th {\n",
              "        text-align: right;\n",
              "    }\n",
              "</style>\n",
              "<table border=\"1\" class=\"dataframe\">\n",
              "  <thead>\n",
              "    <tr style=\"text-align: right;\">\n",
              "      <th></th>\n",
              "      <th>fname</th>\n",
              "      <th>eventname</th>\n",
              "      <th>starttime</th>\n",
              "      <th>duration</th>\n",
              "      <th>start_seconds</th>\n",
              "      <th>duration_seconds</th>\n",
              "    </tr>\n",
              "  </thead>\n",
              "  <tbody>\n",
              "    <tr>\n",
              "      <th>0</th>\n",
              "      <td>8-5_cam02_assault03_place05_day_spring</td>\n",
              "      <td>assault</td>\n",
              "      <td>00:03:07.7</td>\n",
              "      <td>00:00:33.4</td>\n",
              "      <td>187</td>\n",
              "      <td>33</td>\n",
              "    </tr>\n",
              "    <tr>\n",
              "      <th>1</th>\n",
              "      <td>8-5_cam02_assault03_place05_day_spring</td>\n",
              "      <td>assault</td>\n",
              "      <td>00:03:07.7</td>\n",
              "      <td>00:00:33.4</td>\n",
              "      <td>187</td>\n",
              "      <td>33</td>\n",
              "    </tr>\n",
              "    <tr>\n",
              "      <th>2</th>\n",
              "      <td>8-5_cam02_assault03_place05_day_spring</td>\n",
              "      <td>assault</td>\n",
              "      <td>00:03:07.7</td>\n",
              "      <td>00:00:33.4</td>\n",
              "      <td>187</td>\n",
              "      <td>33</td>\n",
              "    </tr>\n",
              "  </tbody>\n",
              "</table>\n",
              "</div>"
            ],
            "text/plain": [
              "                                    fname eventname   starttime    duration  \\\n",
              "0  8-5_cam02_assault03_place05_day_spring   assault  00:03:07.7  00:00:33.4   \n",
              "1  8-5_cam02_assault03_place05_day_spring   assault  00:03:07.7  00:00:33.4   \n",
              "2  8-5_cam02_assault03_place05_day_spring   assault  00:03:07.7  00:00:33.4   \n",
              "\n",
              "   start_seconds  duration_seconds  \n",
              "0            187                33  \n",
              "1            187                33  \n",
              "2            187                33  "
            ]
          },
          "metadata": {
            "tags": []
          },
          "execution_count": 64
        }
      ]
    },
    {
      "cell_type": "code",
      "metadata": {
        "id": "UP9E-Kuq5aRK"
      },
      "source": [
        "#프레임 단위"
      ],
      "execution_count": null,
      "outputs": []
    },
    {
      "cell_type": "code",
      "metadata": {
        "id": "SSqS3mam5aRK",
        "outputId": "353ce2e9-d38a-4d68-ba2c-40cbe176056c"
      },
      "source": [
        "import openpyxl\n",
        "import xml.etree.ElementTree as ET\n",
        "import pandas as pd\n",
        "\n",
        "# load and parse the file\n",
        "fname = input('Enter File Name: ')\n",
        "xmlTree = ET.parse('C:/Users/user/Downloads/'+fname+'.xml')\n",
        "print('Import successful!')\n",
        "print('Parsing XML file...')\n",
        "print(\"XML file parsed successfully!\")\n",
        "\n",
        "x = []\n",
        "\n",
        "for ele in xmlTree.findall('./object/action/frame'):\n",
        "    l = {}\n",
        "    for i in ele.getchildren():\n",
        "        l.update({'fname':fname,i.tag:i.text})\n",
        "        #print(i.tag)\n",
        "    x.append(l)\n",
        "#print(x)\n",
        "#print(\"Creating DataFrame...\")\n",
        "df = pd.DataFrame(x)\n",
        "#print(\"DataFrame created successfully!\")\n",
        "if(df.to_excel(fname+'.xlsx', sheet_name='sheet1', index='False')):\n",
        "    print(\"File Created Successfully!\")"
      ],
      "execution_count": null,
      "outputs": [
        {
          "output_type": "stream",
          "text": [
            "Enter File Name: 8-5_cam02_assault03_place05_day_spring\n",
            "Import successful!\n",
            "Parsing XML file...\n",
            "XML file parsed successfully!\n",
            "Creating DataFrame...\n",
            "DataFrame created successfully!\n"
          ],
          "name": "stdout"
        },
        {
          "output_type": "stream",
          "text": [
            "C:\\Users\\user\\anaconda3\\envs\\machinelearning\\lib\\site-packages\\ipykernel_launcher.py:16: DeprecationWarning: This method will be removed in future versions.  Use 'list(elem)' or iteration over elem instead.\n",
            "  app.launch_new_instance()\n"
          ],
          "name": "stderr"
        }
      ]
    },
    {
      "cell_type": "code",
      "metadata": {
        "id": "H_Fq6Tu75aRL"
      },
      "source": [
        "df['start_seconds']=''\n",
        "df['duration_seconds']=''\n",
        "df['start_seconds']=df['starttime'].apply(lambda x: throw_ms(x))\n",
        "df['duration_seconds']=df['duration'].apply(lambda x: throw_ms(x))"
      ],
      "execution_count": null,
      "outputs": []
    },
    {
      "cell_type": "code",
      "metadata": {
        "id": "123xn0gZ5aRM",
        "outputId": "b9efa87e-9ea7-42af-c45a-523d4ff3f307"
      },
      "source": [
        "df"
      ],
      "execution_count": null,
      "outputs": [
        {
          "output_type": "execute_result",
          "data": {
            "text/html": [
              "<div>\n",
              "<style scoped>\n",
              "    .dataframe tbody tr th:only-of-type {\n",
              "        vertical-align: middle;\n",
              "    }\n",
              "\n",
              "    .dataframe tbody tr th {\n",
              "        vertical-align: top;\n",
              "    }\n",
              "\n",
              "    .dataframe thead th {\n",
              "        text-align: right;\n",
              "    }\n",
              "</style>\n",
              "<table border=\"1\" class=\"dataframe\">\n",
              "  <thead>\n",
              "    <tr style=\"text-align: right;\">\n",
              "      <th></th>\n",
              "      <th>fname</th>\n",
              "      <th>start</th>\n",
              "      <th>end</th>\n",
              "    </tr>\n",
              "  </thead>\n",
              "  <tbody>\n",
              "    <tr>\n",
              "      <th>0</th>\n",
              "      <td>8-5_cam02_assault03_place05_day_spring</td>\n",
              "      <td>5635</td>\n",
              "      <td>5659</td>\n",
              "    </tr>\n",
              "    <tr>\n",
              "      <th>1</th>\n",
              "      <td>8-5_cam02_assault03_place05_day_spring</td>\n",
              "      <td>5635</td>\n",
              "      <td>5659</td>\n",
              "    </tr>\n",
              "    <tr>\n",
              "      <th>2</th>\n",
              "      <td>8-5_cam02_assault03_place05_day_spring</td>\n",
              "      <td>5682</td>\n",
              "      <td>5713</td>\n",
              "    </tr>\n",
              "    <tr>\n",
              "      <th>3</th>\n",
              "      <td>8-5_cam02_assault03_place05_day_spring</td>\n",
              "      <td>5682</td>\n",
              "      <td>5713</td>\n",
              "    </tr>\n",
              "    <tr>\n",
              "      <th>4</th>\n",
              "      <td>8-5_cam02_assault03_place05_day_spring</td>\n",
              "      <td>5736</td>\n",
              "      <td>5772</td>\n",
              "    </tr>\n",
              "    <tr>\n",
              "      <th>5</th>\n",
              "      <td>8-5_cam02_assault03_place05_day_spring</td>\n",
              "      <td>5736</td>\n",
              "      <td>5772</td>\n",
              "    </tr>\n",
              "    <tr>\n",
              "      <th>6</th>\n",
              "      <td>8-5_cam02_assault03_place05_day_spring</td>\n",
              "      <td>5778</td>\n",
              "      <td>5813</td>\n",
              "    </tr>\n",
              "    <tr>\n",
              "      <th>7</th>\n",
              "      <td>8-5_cam02_assault03_place05_day_spring</td>\n",
              "      <td>5778</td>\n",
              "      <td>5813</td>\n",
              "    </tr>\n",
              "    <tr>\n",
              "      <th>8</th>\n",
              "      <td>8-5_cam02_assault03_place05_day_spring</td>\n",
              "      <td>5829</td>\n",
              "      <td>5864</td>\n",
              "    </tr>\n",
              "    <tr>\n",
              "      <th>9</th>\n",
              "      <td>8-5_cam02_assault03_place05_day_spring</td>\n",
              "      <td>5829</td>\n",
              "      <td>5864</td>\n",
              "    </tr>\n",
              "    <tr>\n",
              "      <th>10</th>\n",
              "      <td>8-5_cam02_assault03_place05_day_spring</td>\n",
              "      <td>5928</td>\n",
              "      <td>5966</td>\n",
              "    </tr>\n",
              "    <tr>\n",
              "      <th>11</th>\n",
              "      <td>8-5_cam02_assault03_place05_day_spring</td>\n",
              "      <td>5928</td>\n",
              "      <td>5966</td>\n",
              "    </tr>\n",
              "    <tr>\n",
              "      <th>12</th>\n",
              "      <td>8-5_cam02_assault03_place05_day_spring</td>\n",
              "      <td>5971</td>\n",
              "      <td>5998</td>\n",
              "    </tr>\n",
              "    <tr>\n",
              "      <th>13</th>\n",
              "      <td>8-5_cam02_assault03_place05_day_spring</td>\n",
              "      <td>5971</td>\n",
              "      <td>5998</td>\n",
              "    </tr>\n",
              "    <tr>\n",
              "      <th>14</th>\n",
              "      <td>8-5_cam02_assault03_place05_day_spring</td>\n",
              "      <td>6007</td>\n",
              "      <td>6038</td>\n",
              "    </tr>\n",
              "    <tr>\n",
              "      <th>15</th>\n",
              "      <td>8-5_cam02_assault03_place05_day_spring</td>\n",
              "      <td>6007</td>\n",
              "      <td>6038</td>\n",
              "    </tr>\n",
              "    <tr>\n",
              "      <th>16</th>\n",
              "      <td>8-5_cam02_assault03_place05_day_spring</td>\n",
              "      <td>6057</td>\n",
              "      <td>6089</td>\n",
              "    </tr>\n",
              "    <tr>\n",
              "      <th>17</th>\n",
              "      <td>8-5_cam02_assault03_place05_day_spring</td>\n",
              "      <td>6057</td>\n",
              "      <td>6089</td>\n",
              "    </tr>\n",
              "    <tr>\n",
              "      <th>18</th>\n",
              "      <td>8-5_cam02_assault03_place05_day_spring</td>\n",
              "      <td>6112</td>\n",
              "      <td>6147</td>\n",
              "    </tr>\n",
              "    <tr>\n",
              "      <th>19</th>\n",
              "      <td>8-5_cam02_assault03_place05_day_spring</td>\n",
              "      <td>6112</td>\n",
              "      <td>6147</td>\n",
              "    </tr>\n",
              "    <tr>\n",
              "      <th>20</th>\n",
              "      <td>8-5_cam02_assault03_place05_day_spring</td>\n",
              "      <td>6220</td>\n",
              "      <td>6253</td>\n",
              "    </tr>\n",
              "    <tr>\n",
              "      <th>21</th>\n",
              "      <td>8-5_cam02_assault03_place05_day_spring</td>\n",
              "      <td>6220</td>\n",
              "      <td>6253</td>\n",
              "    </tr>\n",
              "    <tr>\n",
              "      <th>22</th>\n",
              "      <td>8-5_cam02_assault03_place05_day_spring</td>\n",
              "      <td>6271</td>\n",
              "      <td>6304</td>\n",
              "    </tr>\n",
              "    <tr>\n",
              "      <th>23</th>\n",
              "      <td>8-5_cam02_assault03_place05_day_spring</td>\n",
              "      <td>6271</td>\n",
              "      <td>6304</td>\n",
              "    </tr>\n",
              "    <tr>\n",
              "      <th>24</th>\n",
              "      <td>8-5_cam02_assault03_place05_day_spring</td>\n",
              "      <td>6394</td>\n",
              "      <td>6428</td>\n",
              "    </tr>\n",
              "    <tr>\n",
              "      <th>25</th>\n",
              "      <td>8-5_cam02_assault03_place05_day_spring</td>\n",
              "      <td>6394</td>\n",
              "      <td>6428</td>\n",
              "    </tr>\n",
              "    <tr>\n",
              "      <th>26</th>\n",
              "      <td>8-5_cam02_assault03_place05_day_spring</td>\n",
              "      <td>6438</td>\n",
              "      <td>6479</td>\n",
              "    </tr>\n",
              "    <tr>\n",
              "      <th>27</th>\n",
              "      <td>8-5_cam02_assault03_place05_day_spring</td>\n",
              "      <td>6438</td>\n",
              "      <td>6479</td>\n",
              "    </tr>\n",
              "    <tr>\n",
              "      <th>28</th>\n",
              "      <td>8-5_cam02_assault03_place05_day_spring</td>\n",
              "      <td>6489</td>\n",
              "      <td>6526</td>\n",
              "    </tr>\n",
              "    <tr>\n",
              "      <th>29</th>\n",
              "      <td>8-5_cam02_assault03_place05_day_spring</td>\n",
              "      <td>6489</td>\n",
              "      <td>6526</td>\n",
              "    </tr>\n",
              "    <tr>\n",
              "      <th>30</th>\n",
              "      <td>8-5_cam02_assault03_place05_day_spring</td>\n",
              "      <td>6589</td>\n",
              "      <td>6629</td>\n",
              "    </tr>\n",
              "    <tr>\n",
              "      <th>31</th>\n",
              "      <td>8-5_cam02_assault03_place05_day_spring</td>\n",
              "      <td>6589</td>\n",
              "      <td>6629</td>\n",
              "    </tr>\n",
              "    <tr>\n",
              "      <th>32</th>\n",
              "      <td>8-5_cam02_assault03_place05_day_spring</td>\n",
              "      <td>5652</td>\n",
              "      <td>5815</td>\n",
              "    </tr>\n",
              "    <tr>\n",
              "      <th>33</th>\n",
              "      <td>8-5_cam02_assault03_place05_day_spring</td>\n",
              "      <td>5652</td>\n",
              "      <td>5815</td>\n",
              "    </tr>\n",
              "  </tbody>\n",
              "</table>\n",
              "</div>"
            ],
            "text/plain": [
              "                                     fname start   end\n",
              "0   8-5_cam02_assault03_place05_day_spring  5635  5659\n",
              "1   8-5_cam02_assault03_place05_day_spring  5635  5659\n",
              "2   8-5_cam02_assault03_place05_day_spring  5682  5713\n",
              "3   8-5_cam02_assault03_place05_day_spring  5682  5713\n",
              "4   8-5_cam02_assault03_place05_day_spring  5736  5772\n",
              "5   8-5_cam02_assault03_place05_day_spring  5736  5772\n",
              "6   8-5_cam02_assault03_place05_day_spring  5778  5813\n",
              "7   8-5_cam02_assault03_place05_day_spring  5778  5813\n",
              "8   8-5_cam02_assault03_place05_day_spring  5829  5864\n",
              "9   8-5_cam02_assault03_place05_day_spring  5829  5864\n",
              "10  8-5_cam02_assault03_place05_day_spring  5928  5966\n",
              "11  8-5_cam02_assault03_place05_day_spring  5928  5966\n",
              "12  8-5_cam02_assault03_place05_day_spring  5971  5998\n",
              "13  8-5_cam02_assault03_place05_day_spring  5971  5998\n",
              "14  8-5_cam02_assault03_place05_day_spring  6007  6038\n",
              "15  8-5_cam02_assault03_place05_day_spring  6007  6038\n",
              "16  8-5_cam02_assault03_place05_day_spring  6057  6089\n",
              "17  8-5_cam02_assault03_place05_day_spring  6057  6089\n",
              "18  8-5_cam02_assault03_place05_day_spring  6112  6147\n",
              "19  8-5_cam02_assault03_place05_day_spring  6112  6147\n",
              "20  8-5_cam02_assault03_place05_day_spring  6220  6253\n",
              "21  8-5_cam02_assault03_place05_day_spring  6220  6253\n",
              "22  8-5_cam02_assault03_place05_day_spring  6271  6304\n",
              "23  8-5_cam02_assault03_place05_day_spring  6271  6304\n",
              "24  8-5_cam02_assault03_place05_day_spring  6394  6428\n",
              "25  8-5_cam02_assault03_place05_day_spring  6394  6428\n",
              "26  8-5_cam02_assault03_place05_day_spring  6438  6479\n",
              "27  8-5_cam02_assault03_place05_day_spring  6438  6479\n",
              "28  8-5_cam02_assault03_place05_day_spring  6489  6526\n",
              "29  8-5_cam02_assault03_place05_day_spring  6489  6526\n",
              "30  8-5_cam02_assault03_place05_day_spring  6589  6629\n",
              "31  8-5_cam02_assault03_place05_day_spring  6589  6629\n",
              "32  8-5_cam02_assault03_place05_day_spring  5652  5815\n",
              "33  8-5_cam02_assault03_place05_day_spring  5652  5815"
            ]
          },
          "metadata": {
            "tags": []
          },
          "execution_count": 66
        }
      ]
    },
    {
      "cell_type": "code",
      "metadata": {
        "id": "u2l-WzkL5aRM"
      },
      "source": [
        "## 여러 개 한꺼번에"
      ],
      "execution_count": null,
      "outputs": []
    },
    {
      "cell_type": "code",
      "metadata": {
        "id": "OU5yvT6D5aRO"
      },
      "source": [
        "import openpyxl\n",
        "import xml.etree.ElementTree as ET\n",
        "import pandas as pd\n",
        "\n",
        "# load and parse the file\n",
        "fname = input('Enter File Name: ')\n",
        "xmlTree = ET.parse('C:/Users/user/Downloads/'+fname+'.xml') #경로 수정해야 해요\n",
        "#print('Import successful!')\n",
        "#print('Parsing XML file...')\n",
        "#print(\"XML file parsed successfully!\")\n",
        "\n",
        "x = []\n",
        "\n",
        "for ele in xmlTree.findall('./event'):\n",
        "    l = {}\n",
        "    for i in ele.getchildren():\n",
        "        l.update({'fname':fname,i.tag:i.text})\n",
        "        #print(i.tag)\n",
        "    x.append(l)\n",
        "#print(x)\n",
        "#print(\"Creating DataFrame...\")\n",
        "df = pd.DataFrame(x)\n",
        "#print(\"DataFrame created successfully!\")\n",
        "#if(df.to_excel(fname+'.xlsx', sheet_name='sheet1', index='False')):\n",
        "#    print(\"File Created Successfully!\")\n",
        "#df"
      ],
      "execution_count": null,
      "outputs": []
    },
    {
      "cell_type": "code",
      "metadata": {
        "id": "fl31AoXX5aRP"
      },
      "source": [
        "import os\n",
        "import openpyxl\n",
        "import xml.etree.ElementTree as ET\n",
        "import pandas as pd\n",
        "\n",
        "path = './경로/'\n",
        "file_list = os.listdir(path)\n",
        "file_list_py = [file for file in file_list if file.endswith('.xml')]\n",
        "for k in range(len(file_list_py))\n",
        "    # load and parse the file\n",
        "    fname = file_list_py[i]\n",
        "    xmlTree = ET.parse('./경로/'+fname+'.xml') \n",
        "    x = []\n",
        "\n",
        "    for ele in xmlTree.findall('./event'):\n",
        "        l = {}\n",
        "        for i in ele.getchildren():\n",
        "            l.update({'fname':fname,i.tag:i.text})\n",
        "            #print(i.tag)\n",
        "        x.append(l)\n",
        "df = pd.DataFrame(x)"
      ],
      "execution_count": null,
      "outputs": []
    }
  ]
}