{
 "cells": [
  {
   "cell_type": "code",
   "execution_count": 1,
   "metadata": {
    "colab": {
     "base_uri": "https://localhost:8080/"
    },
    "id": "v_G4ZdcfdBxo",
    "outputId": "a65e2895-ba63-4bfd-e963-8e81bc176201"
   },
   "outputs": [
    {
     "name": "stdout",
     "output_type": "stream",
     "text": [
      "Mounted at /gdrive\n"
     ]
    }
   ],
   "source": [
    "from google.colab import drive \n",
    "drive.mount('/gdrive')"
   ]
  },
  {
   "cell_type": "code",
   "execution_count": 2,
   "metadata": {
    "id": "apaKCFB7sILD"
   },
   "outputs": [],
   "source": [
    "import pandas as pd \n",
    "import re\n",
    "import math\n",
    "import os\n",
    "import sys\n",
    "import cv2\n",
    "import glob\n",
    "import time\n",
    "import imutils\n",
    "import numpy as np\n",
    "#from google.colab.patches import cv2_imshow"
   ]
  },
  {
   "cell_type": "code",
   "execution_count": 3,
   "metadata": {
    "id": "UOF-tKEz2nLB"
   },
   "outputs": [],
   "source": [
    "path = '/gdrive/Shareddrives/2021청년인재_고려대과정_10조/Data/AIHub/'"
   ]
  },
  {
   "cell_type": "markdown",
   "metadata": {
    "id": "t7tixwqhVN-_"
   },
   "source": [
    "# Cut AIHub Only Violence Part"
   ]
  },
  {
   "cell_type": "code",
   "execution_count": 4,
   "metadata": {
    "id": "p4ruazJhsJ-D"
   },
   "outputs": [],
   "source": [
    "mp4_files = glob.glob(path+'**/*.mp4', recursive=True)"
   ]
  },
  {
   "cell_type": "code",
   "execution_count": 5,
   "metadata": {
    "id": "YBRHLz_PsW5G"
   },
   "outputs": [],
   "source": [
    "from moviepy.tools import subprocess_call\n",
    "from moviepy.config import get_setting\n",
    "\n",
    "def ffmpeg_extract_subclip(filename, t1, t2, targetname=None):\n",
    "    \"\"\" Makes a new video file playing video file ``filename`` between\n",
    "    the times ``t1`` and ``t2``. \"\"\"\n",
    "    name, ext = os.path.splitext(filename)\n",
    "    if not targetname:\n",
    "        T1, T2 = [int(1000*t) for t in [t1, t2]]\n",
    "        targetname = \"%sSUB%d_%d.%s\" % (name, T1, T2, ext)\n",
    "\n",
    "    cmd = [get_setting(\"FFMPEG_BINARY\"),\"-y\",\n",
    "           \"-ss\", \"%0.2f\"%t1,\n",
    "           \"-i\", filename,\n",
    "           \"-t\", \"%0.2f\"%(t2-t1),\n",
    "           \"-vcodec\", \"copy\", \"-acodec\", \"copy\", targetname]\n",
    "\n",
    "    subprocess_call(cmd)"
   ]
  },
  {
   "cell_type": "code",
   "execution_count": 6,
   "metadata": {
    "id": "OPg8-UR5Q0RQ"
   },
   "outputs": [],
   "source": [
    "def aihub_data_cut_violence(video_path, csv_path):\n",
    "    mp4_files = glob.glob(video_path+'**/*.mp4', recursive=True)\n",
    "    events = pd.read_csv(csv_path)\n",
    "    out_path_list = list()\n",
    "\n",
    "    for idx, i in enumerate(mp4_files):\n",
    "        start = 0\n",
    "        end = 0\n",
    "        for j in events.itertuples():\n",
    "            if (i.split('AIHub/')[1].split('_resized')[0] == j.fname.split('.')[0]):\n",
    "                if (len(j.start.split(':')) == 3):\n",
    "                    start = float(j.start.split(':')[0]) * 60 * 60 + float(j.start.split(':')[1]) * 60 + float(j.start.split(':')[2])\n",
    "                    end = start + float(j.end.split(':')[0]) * 60 * 60 + float(j.end.split(':')[1]) * 60 + float(j.end.split(':')[2])\n",
    "                else:\n",
    "                    start = float(j.start.split(':')[0]) * 60 + float(j.start.split(':')[1]) \n",
    "                    end = start + float(j.end.split(':')[0]) * 60 + float(j.end.split(':')[1])\n",
    "                break\n",
    "        \n",
    "        out = i.split('.')[0]+'_fi.mp4'\n",
    "        # print(i,start,end,out)\n",
    "        ffmpeg_extract_subclip(i, start, end, targetname=out)\n",
    "        out_path_list.append(out)\n",
    "        print('working... {}', round(idx/len(mp4_files),2))\n",
    "    return out_path_list\n",
    "\n",
    "#path = '/gdrive/Shareddrives/2021청년인재_고려대과정_10조/Data/AIHub/'\n",
    "#csv_path = '/gdrive/Shareddrives/2021청년인재_고려대과정_10조/Data/AIHub/events_time.csv'\n",
    "#out_path = aihub_data_cut_violence(path, csv_path)"
   ]
  },
  {
   "cell_type": "markdown",
   "metadata": {
    "id": "zUtTfYWUVA1m"
   },
   "source": [
    "# Box Crop Video\n"
   ]
  },
  {
   "cell_type": "code",
   "execution_count": 7,
   "metadata": {
    "id": "ObNUEXeU1bud"
   },
   "outputs": [],
   "source": [
    "def box_crop_video_by_frame(video_path, out_path, box_width, box_height, object_position):\n",
    "    '''\n",
    "    video_path : input video path\n",
    "    out_path : path for saving video\n",
    "    box_width : width of box\n",
    "    box_height : height of box\n",
    "    object_position : list of object posisitons\n",
    "    '''\n",
    "\n",
    "    cap = cv2.VideoCapture(video_path)\n",
    "    width = int(cap.get(cv2.CAP_PROP_FRAME_WIDTH)) # 영상의 넓이(가로) 프레임\n",
    "    height = int(cap.get(cv2.CAP_PROP_FRAME_HEIGHT)) # 영상의 높이(세로) 프레임\n",
    "    frameRate = int(cap.get(cv2.CAP_PROP_FPS)) \n",
    "    top,bottom,left,right = get_box_size(box_width, box_height, width, height, object_position) \n",
    "    \n",
    "    # 비디오 저장 변수\n",
    "    writer = None\n",
    "    \n",
    "    while True:\n",
    "        # ret : 성공적으로 불러왔는지 확인\n",
    "        # frame : 읽어온 frame 정보    \n",
    "        ret, frame = cap.read()\n",
    "        \n",
    "        # 읽은 Frame이 없는 경우 종료\n",
    "        if not ret:\n",
    "            break\n",
    "\n",
    "        # Frame Resize\n",
    "        frame = frame[top:bottom,left:right,:]\n",
    "        #cv2.imshow('frame', frame)\n",
    "        #cv2_imshow(frame)\n",
    "        key = cv2.waitKey(1) & 0xFF\n",
    "        if key == ord('q'):\n",
    "            break\n",
    "        \n",
    "        # 저장할 video 설정\n",
    "        if writer is None:\n",
    "            fourcc = cv2.VideoWriter_fourcc(*\"mp4v\")  # MJPG\n",
    "            writer = cv2.VideoWriter(out_path, fourcc, frameRate, (frame.shape[1], frame.shape[0]), True)\n",
    "        \n",
    "        # 비디오 저장\n",
    "        if writer is not None:\n",
    "            writer.write(frame)\n",
    "            \n",
    "    print('Successfully cropped : ', out_path)\n",
    "    return out_path"
   ]
  },
  {
   "cell_type": "code",
   "execution_count": 17,
   "metadata": {
    "id": "TBMMAKdK1brz"
   },
   "outputs": [],
   "source": [
    "def get_box_size(box_width, box_height, vid_width, vid_height, people):\n",
    "    '''\n",
    "    box_width : width of the box\n",
    "    box_height : height of the box\n",
    "    vid_width : width of input video\n",
    "    vid_height :  height of input video\n",
    "    people : list of object position [[x1,y1],[x2,y2], ... [xn,yn]]]\n",
    "\n",
    "    returns cornor coordinate of box in the video\n",
    "    '''\n",
    "    print('cutting {}x{} in {}x{} video'.format(box_width, box_height, vid_width, vid_height))\n",
    "    pos_wh = np.array([[x[0],x[1]] for x in people])\n",
    "    center = pos_wh.mean(axis=0)\n",
    "    print('center :', center)\n",
    "    left = int(center[0] - box_width/2)\n",
    "    top = int(center[1] -  box_height/2)\n",
    "    if left > vid_width - box_width:\n",
    "        left = vid_width - box_width \n",
    "    elif left < 0:\n",
    "        left = 0\n",
    "\n",
    "    if top > vid_height - box_height:\n",
    "        top = vid_height - box_height \n",
    "    elif top < 0:\n",
    "        top = 0\n",
    "\n",
    "    right = left + box_width\n",
    "    bottom = top + box_height\n",
    "\n",
    "    print('box pixel area : {}, {}'.format((left,top),(right,bottom)))\n",
    "    assert left<right and top<bottom, 'left, top has to be lower than right, bottom'\n",
    "    assert right <= vid_width and bottom<=vid_height, 'box goes out of the video'\n",
    "    return top,bottom,left,right"
   ]
  },
  {
   "cell_type": "code",
   "execution_count": 9,
   "metadata": {
    "id": "ateKPej62aYn"
   },
   "outputs": [],
   "source": [
    "aihub_pos = pd.read_csv('/gdrive/Shareddrives/2021청년인재_고려대과정_10조/Data/AIHub/aihub_position.csv')\n",
    "aihub_info = pd.read_csv('/gdrive/Shareddrives/2021청년인재_고려대과정_10조/Data/AIHub/aihub_info.csv')"
   ]
  },
  {
   "cell_type": "code",
   "execution_count": 10,
   "metadata": {
    "colab": {
     "base_uri": "https://localhost:8080/"
    },
    "id": "YjBRJzARM05c",
    "outputId": "e7b188d1-074b-4b6a-e170-1de74bd34ee0"
   },
   "outputs": [
    {
     "data": {
      "text/plain": [
       "((1283, 8), (2830, 4))"
      ]
     },
     "execution_count": 10,
     "metadata": {
      "tags": []
     },
     "output_type": "execute_result"
    }
   ],
   "source": [
    "aihub_info.shape, aihub_pos.shape"
   ]
  },
  {
   "cell_type": "code",
   "execution_count": 11,
   "metadata": {
    "id": "g_q8st0fsKyx"
   },
   "outputs": [],
   "source": [
    "aihub_info.drop(labels=['width','height', 'depth','population'], axis=1, inplace=True)"
   ]
  },
  {
   "cell_type": "code",
   "execution_count": 12,
   "metadata": {
    "colab": {
     "base_uri": "https://localhost:8080/",
     "height": 202
    },
    "id": "JBxq8G-b2aKz",
    "outputId": "1cf64d5d-2202-4136-c138-66eeeefe015e"
   },
   "outputs": [
    {
     "data": {
      "text/html": [
       "<div>\n",
       "<style scoped>\n",
       "    .dataframe tbody tr th:only-of-type {\n",
       "        vertical-align: middle;\n",
       "    }\n",
       "\n",
       "    .dataframe tbody tr th {\n",
       "        vertical-align: top;\n",
       "    }\n",
       "\n",
       "    .dataframe thead th {\n",
       "        text-align: right;\n",
       "    }\n",
       "</style>\n",
       "<table border=\"1\" class=\"dataframe\">\n",
       "  <thead>\n",
       "    <tr style=\"text-align: right;\">\n",
       "      <th></th>\n",
       "      <th>filename</th>\n",
       "      <th>eventname</th>\n",
       "      <th>start</th>\n",
       "      <th>duration</th>\n",
       "    </tr>\n",
       "  </thead>\n",
       "  <tbody>\n",
       "    <tr>\n",
       "      <th>0</th>\n",
       "      <td>outsidedoor_01/11-2/11-2_cam02_assault01_place...</td>\n",
       "      <td>assault</td>\n",
       "      <td>90</td>\n",
       "      <td>200</td>\n",
       "    </tr>\n",
       "    <tr>\n",
       "      <th>1</th>\n",
       "      <td>outsidedoor_01/11-2/11-2_cam02_assault01_place...</td>\n",
       "      <td>assault</td>\n",
       "      <td>51</td>\n",
       "      <td>248</td>\n",
       "    </tr>\n",
       "    <tr>\n",
       "      <th>2</th>\n",
       "      <td>outsidedoor_01/11-2/11-2_cam01_assault01_place...</td>\n",
       "      <td>assault</td>\n",
       "      <td>92</td>\n",
       "      <td>200</td>\n",
       "    </tr>\n",
       "    <tr>\n",
       "      <th>3</th>\n",
       "      <td>outsidedoor_01/11-2/11-2_cam01_assault01_place...</td>\n",
       "      <td>assault</td>\n",
       "      <td>52</td>\n",
       "      <td>248</td>\n",
       "    </tr>\n",
       "    <tr>\n",
       "      <th>4</th>\n",
       "      <td>outsidedoor_01/12-3/12-3_cam02_assault01_place...</td>\n",
       "      <td>assault</td>\n",
       "      <td>81</td>\n",
       "      <td>163</td>\n",
       "    </tr>\n",
       "  </tbody>\n",
       "</table>\n",
       "</div>"
      ],
      "text/plain": [
       "                                            filename eventname  start  duration\n",
       "0  outsidedoor_01/11-2/11-2_cam02_assault01_place...   assault     90       200\n",
       "1  outsidedoor_01/11-2/11-2_cam02_assault01_place...   assault     51       248\n",
       "2  outsidedoor_01/11-2/11-2_cam01_assault01_place...   assault     92       200\n",
       "3  outsidedoor_01/11-2/11-2_cam01_assault01_place...   assault     52       248\n",
       "4  outsidedoor_01/12-3/12-3_cam02_assault01_place...   assault     81       163"
      ]
     },
     "execution_count": 12,
     "metadata": {
      "tags": []
     },
     "output_type": "execute_result"
    }
   ],
   "source": [
    "aihub_info.head()"
   ]
  },
  {
   "cell_type": "code",
   "execution_count": 13,
   "metadata": {
    "colab": {
     "base_uri": "https://localhost:8080/",
     "height": 202
    },
    "id": "gjByOA_hWoAt",
    "outputId": "d74ea849-4028-4f99-afcd-265aa8550a38"
   },
   "outputs": [
    {
     "data": {
      "text/html": [
       "<div>\n",
       "<style scoped>\n",
       "    .dataframe tbody tr th:only-of-type {\n",
       "        vertical-align: middle;\n",
       "    }\n",
       "\n",
       "    .dataframe tbody tr th {\n",
       "        vertical-align: top;\n",
       "    }\n",
       "\n",
       "    .dataframe thead th {\n",
       "        text-align: right;\n",
       "    }\n",
       "</style>\n",
       "<table border=\"1\" class=\"dataframe\">\n",
       "  <thead>\n",
       "    <tr style=\"text-align: right;\">\n",
       "      <th></th>\n",
       "      <th>filename</th>\n",
       "      <th>objname</th>\n",
       "      <th>x</th>\n",
       "      <th>y</th>\n",
       "    </tr>\n",
       "  </thead>\n",
       "  <tbody>\n",
       "    <tr>\n",
       "      <th>0</th>\n",
       "      <td>outsidedoor_01/11-2/11-2_cam02_assault01_place...</td>\n",
       "      <td>person_1</td>\n",
       "      <td>2750</td>\n",
       "      <td>1325</td>\n",
       "    </tr>\n",
       "    <tr>\n",
       "      <th>1</th>\n",
       "      <td>outsidedoor_01/11-2/11-2_cam02_assault01_place...</td>\n",
       "      <td>person_2</td>\n",
       "      <td>3323</td>\n",
       "      <td>1164</td>\n",
       "    </tr>\n",
       "    <tr>\n",
       "      <th>2</th>\n",
       "      <td>outsidedoor_01/11-2/11-2_cam02_assault01_place...</td>\n",
       "      <td>person_1</td>\n",
       "      <td>2926</td>\n",
       "      <td>1473</td>\n",
       "    </tr>\n",
       "    <tr>\n",
       "      <th>3</th>\n",
       "      <td>outsidedoor_01/11-2/11-2_cam02_assault01_place...</td>\n",
       "      <td>person_2</td>\n",
       "      <td>3509</td>\n",
       "      <td>1146</td>\n",
       "    </tr>\n",
       "    <tr>\n",
       "      <th>4</th>\n",
       "      <td>outsidedoor_01/11-2/11-2_cam01_assault01_place...</td>\n",
       "      <td>person_1</td>\n",
       "      <td>721</td>\n",
       "      <td>1063</td>\n",
       "    </tr>\n",
       "  </tbody>\n",
       "</table>\n",
       "</div>"
      ],
      "text/plain": [
       "                                            filename   objname     x     y\n",
       "0  outsidedoor_01/11-2/11-2_cam02_assault01_place...  person_1  2750  1325\n",
       "1  outsidedoor_01/11-2/11-2_cam02_assault01_place...  person_2  3323  1164\n",
       "2  outsidedoor_01/11-2/11-2_cam02_assault01_place...  person_1  2926  1473\n",
       "3  outsidedoor_01/11-2/11-2_cam02_assault01_place...  person_2  3509  1146\n",
       "4  outsidedoor_01/11-2/11-2_cam01_assault01_place...  person_1   721  1063"
      ]
     },
     "execution_count": 13,
     "metadata": {
      "tags": []
     },
     "output_type": "execute_result"
    }
   ],
   "source": [
    "aihub_pos.head()"
   ]
  },
  {
   "cell_type": "code",
   "execution_count": 14,
   "metadata": {
    "id": "nxDnOz-X2aRJ"
   },
   "outputs": [],
   "source": [
    "# video was downscaled from 3840x2160 to 720x406\n",
    "aihub_pos['x'] = (aihub_pos['x']/3840*720).map(lambda x: int(x))\n",
    "aihub_pos['y'] = (aihub_pos['y']/2160*406).map(lambda x: int(x))"
   ]
  },
  {
   "cell_type": "code",
   "execution_count": 15,
   "metadata": {
    "id": "pEB-kGBsrMGd"
   },
   "outputs": [],
   "source": [
    "aihub_pos.columns = ['filename','objname','width','height']"
   ]
  },
  {
   "cell_type": "code",
   "execution_count": 16,
   "metadata": {
    "colab": {
     "base_uri": "https://localhost:8080/",
     "height": 202
    },
    "id": "vm5NkbNi2aPO",
    "outputId": "283353df-b73c-4b53-9443-177e709c1295"
   },
   "outputs": [
    {
     "data": {
      "text/html": [
       "<div>\n",
       "<style scoped>\n",
       "    .dataframe tbody tr th:only-of-type {\n",
       "        vertical-align: middle;\n",
       "    }\n",
       "\n",
       "    .dataframe tbody tr th {\n",
       "        vertical-align: top;\n",
       "    }\n",
       "\n",
       "    .dataframe thead th {\n",
       "        text-align: right;\n",
       "    }\n",
       "</style>\n",
       "<table border=\"1\" class=\"dataframe\">\n",
       "  <thead>\n",
       "    <tr style=\"text-align: right;\">\n",
       "      <th></th>\n",
       "      <th>filename</th>\n",
       "      <th>objname</th>\n",
       "      <th>width</th>\n",
       "      <th>height</th>\n",
       "    </tr>\n",
       "  </thead>\n",
       "  <tbody>\n",
       "    <tr>\n",
       "      <th>0</th>\n",
       "      <td>outsidedoor_01/11-2/11-2_cam02_assault01_place...</td>\n",
       "      <td>person_1</td>\n",
       "      <td>515</td>\n",
       "      <td>249</td>\n",
       "    </tr>\n",
       "    <tr>\n",
       "      <th>1</th>\n",
       "      <td>outsidedoor_01/11-2/11-2_cam02_assault01_place...</td>\n",
       "      <td>person_2</td>\n",
       "      <td>623</td>\n",
       "      <td>218</td>\n",
       "    </tr>\n",
       "    <tr>\n",
       "      <th>2</th>\n",
       "      <td>outsidedoor_01/11-2/11-2_cam02_assault01_place...</td>\n",
       "      <td>person_1</td>\n",
       "      <td>548</td>\n",
       "      <td>276</td>\n",
       "    </tr>\n",
       "    <tr>\n",
       "      <th>3</th>\n",
       "      <td>outsidedoor_01/11-2/11-2_cam02_assault01_place...</td>\n",
       "      <td>person_2</td>\n",
       "      <td>657</td>\n",
       "      <td>215</td>\n",
       "    </tr>\n",
       "    <tr>\n",
       "      <th>4</th>\n",
       "      <td>outsidedoor_01/11-2/11-2_cam01_assault01_place...</td>\n",
       "      <td>person_1</td>\n",
       "      <td>135</td>\n",
       "      <td>199</td>\n",
       "    </tr>\n",
       "  </tbody>\n",
       "</table>\n",
       "</div>"
      ],
      "text/plain": [
       "                                            filename   objname  width  height\n",
       "0  outsidedoor_01/11-2/11-2_cam02_assault01_place...  person_1    515     249\n",
       "1  outsidedoor_01/11-2/11-2_cam02_assault01_place...  person_2    623     218\n",
       "2  outsidedoor_01/11-2/11-2_cam02_assault01_place...  person_1    548     276\n",
       "3  outsidedoor_01/11-2/11-2_cam02_assault01_place...  person_2    657     215\n",
       "4  outsidedoor_01/11-2/11-2_cam01_assault01_place...  person_1    135     199"
      ]
     },
     "execution_count": 16,
     "metadata": {
      "tags": []
     },
     "output_type": "execute_result"
    }
   ],
   "source": [
    "aihub_pos.head()"
   ]
  },
  {
   "cell_type": "code",
   "execution_count": 19,
   "metadata": {
    "id": "NBdUB7TzU_cN"
   },
   "outputs": [],
   "source": [
    "def ffmpeg_extract_box_cropped_subclip(filename, box_width, box_height,left,top, targetname=None):\n",
    "    cmd = [get_setting(\"FFMPEG_BINARY\"),\"-y\",\n",
    "           \"-i\", filename,\n",
    "           \"-vf\", \"crop={}:{}:{}:{}\".format(box_width,box_height,left,top),\n",
    "           targetname]\n",
    "\n",
    "    subprocess_call(cmd)"
   ]
  },
  {
   "cell_type": "code",
   "execution_count": 21,
   "metadata": {
    "id": "Y02-fq-bU_eL"
   },
   "outputs": [],
   "source": [
    "def box_crop(path, pos_df, box_width, box_height):\n",
    "    '''\n",
    "    works same as box_crop_ffmpeg but this function use cv2 to crop and this takes longer time\n",
    "    SO DONT USE\n",
    "    '''\n",
    "    fight_vid_list = glob.glob(path + '**/*_resized_720_fi.mp4', recursive=True)\n",
    "    cropped_video = list()\n",
    "\n",
    "    for idx, in_path in enumerate(fight_vid_list):\n",
    "        filename = in_path.split(path)[-1].split('_resized_720_fi.mp4')[0]\n",
    "\n",
    "        obj_pos = list()\n",
    "        for index, row in pos_df[pos_df['filename']==filename + '.xml'].iterrows():\n",
    "            obj_pos.append([row.width, row.height])\n",
    "\n",
    "        out_path = in_path.split('_fi.mp4')[0] + '_cropped_fi.mp4'\n",
    "        print('working on : ',filename)\n",
    "        cropped_video.append(box_crop_video_by_frame(in_path, out_path, box_width, box_height, obj_pos))\n",
    "        print('---- working... {}% finished !!'.format(round(idx/len(fight_vid_list),2)))\n",
    "        \n",
    "    return cropped_video\n",
    "\n",
    "path = '/gdrive/Shareddrives/2021청년인재_고려대과정_10조/Data/AIHub/'\n",
    "#cropped_vid = box_crop(path, aihub_pos, 360, 360)"
   ]
  },
  {
   "cell_type": "code",
   "execution_count": 24,
   "metadata": {
    "colab": {
     "base_uri": "https://localhost:8080/"
    },
    "id": "I4i2-bg8U_Yl",
    "outputId": "8dbd882c-e6cd-4aa4-c4a9-dcf98f725358"
   },
   "outputs": [
    {
     "name": "stdout",
     "output_type": "stream",
     "text": [
      "Are you sure to delete all _fi.mp4 files?\n",
      "type \"yes\" if so..\n",
      "> no\n"
     ]
    }
   ],
   "source": [
    "# cropped_fi.mp4 파일 제거\n",
    "key = str(input('Are you sure to delete all _fi.mp4 files?\\ntype \"yes\" if so..\\n> '))\n",
    "if key == \"yes\":\n",
    "    for vid in glob.glob(path + '**/*_cropped_fi.mp4', recursive=True):\n",
    "        if os.path.isfile(vid):\n",
    "            os.remove(vid)\n",
    "        else:\n",
    "            print(vid,' doesnt\\'t exist')\n",
    "    print('done')"
   ]
  },
  {
   "cell_type": "code",
   "execution_count": 25,
   "metadata": {
    "colab": {
     "base_uri": "https://localhost:8080/"
    },
    "id": "x3FV132_U_Wq",
    "outputId": "fe8d83b9-feaa-4073-81ee-ee9fbc64ce00"
   },
   "outputs": [
    {
     "name": "stdout",
     "output_type": "stream",
     "text": [
      "Are you sure to delete all _fi.mp4 files?\n",
      "type \"yes\" if so..\n",
      "> no\n"
     ]
    }
   ],
   "source": [
    "# _fi.mp4 파일 제거\n",
    "key = str(input('Are you sure to delete all _fi.mp4 files?\\ntype \"yes\" if so..\\n> '))\n",
    "if key == \"yes\":\n",
    "    for vid in glob.glob(path + '**/*_cropped_fi.mp4', recursive=True):\n",
    "        if os.path.isfile(vid):\n",
    "            os.remove(vid)\n",
    "        else:\n",
    "            print(vid,' doesnt\\'t exist')\n",
    "    print('done')"
   ]
  },
  {
   "cell_type": "code",
   "execution_count": 22,
   "metadata": {
    "id": "_CrzC6EeU_PV"
   },
   "outputs": [],
   "source": [
    "aihub_df = pd.merge(aihub_pos, aihub_info, left_on='filename', right_on='filename', how='outer')"
   ]
  },
  {
   "cell_type": "code",
   "execution_count": 18,
   "metadata": {
    "id": "VvVjMc1SU_NF"
   },
   "outputs": [],
   "source": [
    "def box_crop_ffmpeg(path, pos_df, box_width, box_height):\n",
    "    fight_vid_list = glob.glob(path + '**/*_resized_720_fi.mp4', recursive=True)\n",
    "    cropped_video = list()\n",
    "\n",
    "    for idx, in_path in enumerate(fight_vid_list):\n",
    "        filename = in_path.split(path)[-1].split('_resized_720_fi.mp4')[0]\n",
    "        out_path = in_path.split('_fi.mp4')[0] + '_cropped_fi.mp4'\n",
    "\n",
    "        if os.path.isfile(out_path):\n",
    "            continue\n",
    "\n",
    "        obj_pos = list()\n",
    "        start_time = time.time()\n",
    "        start = 0\n",
    "        end = 0\n",
    "        \n",
    "        for index, row in pos_df[pos_df['filename']==filename + '.xml'].iterrows():\n",
    "            if not start or not end:\n",
    "                start = row.start\n",
    "                end = start + row.duration\n",
    "            obj_pos.append([row.width, row.height])\n",
    "        print(start, end)\n",
    "\n",
    "        print('working on : ',filename)\n",
    "        cap = cv2.VideoCapture(in_path)\n",
    "        width = int(cap.get(cv2.CAP_PROP_FRAME_WIDTH)) # 영상의 넓이(가로) 프레임\n",
    "        height = int(cap.get(cv2.CAP_PROP_FRAME_HEIGHT)) # 영상의 높이(세로) 프레임\n",
    "        frameRate = int(cap.get(cv2.CAP_PROP_FPS)) \n",
    "        top,_,left,_ = get_box_size(box_width, box_height, width, height, obj_pos)         \n",
    "        cap.release()\n",
    "\n",
    "        ffmpeg_extract_box_cropped_subclip(in_path,box_width, box_height,left,top,out_path)\n",
    "        cropped_video.append(out_path)\n",
    "        print('---- working... {}%... {} out of {} finished !!\\ntime took : {} sec'.format(round(idx+1/len(fight_vid_list) * 100,2), idx+1, len(fight_vid_list), round(time.time()-start_time,3)))\n",
    "\n",
    "    return cropped_video\n",
    "\n",
    "#path = '/gdrive/Shareddrives/2021청년인재_고려대과정_10조/Data/AIHub/'\n",
    "#box_cropped_vid = box_crop_ffmpeg(path, aihub_df, 360, 360)"
   ]
  },
  {
   "cell_type": "markdown",
   "metadata": {
    "id": "Hf5eS1zK3xDy"
   },
   "source": [
    "# non-fight data subclip extract"
   ]
  },
  {
   "cell_type": "code",
   "execution_count": 6,
   "metadata": {
    "id": "aqw5bTiu3z1Y"
   },
   "outputs": [],
   "source": [
    "file1 = 'C:/Users/Seogki/Desktop/AIHub 제외했던 vgg19+bilstm.mp4'"
   ]
  },
  {
   "cell_type": "code",
   "execution_count": 8,
   "metadata": {},
   "outputs": [
    {
     "name": "stdout",
     "output_type": "stream",
     "text": [
      "Moviepy - Running:\n",
      ">>> \"+ \" \".join(cmd)\n",
      "Moviepy - Command successful\n"
     ]
    }
   ],
   "source": [
    "ffmpeg_extract_subclip(file1, 0,78,file1.split('.')[0] + '_1.mp4')"
   ]
  },
  {
   "cell_type": "code",
   "execution_count": null,
   "metadata": {},
   "outputs": [],
   "source": []
  }
 ],
 "metadata": {
  "accelerator": "TPU",
  "colab": {
   "collapsed_sections": [],
   "name": "AIHub_Preprocessing",
   "provenance": []
  },
  "kernelspec": {
   "display_name": "Python 3",
   "language": "python",
   "name": "python3"
  },
  "language_info": {
   "codemirror_mode": {
    "name": "ipython",
    "version": 3
   },
   "file_extension": ".py",
   "mimetype": "text/x-python",
   "name": "python",
   "nbconvert_exporter": "python",
   "pygments_lexer": "ipython3",
   "version": "3.8.5"
  }
 },
 "nbformat": 4,
 "nbformat_minor": 1
}
