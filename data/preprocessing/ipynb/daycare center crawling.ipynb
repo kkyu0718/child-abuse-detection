{
 "cells": [
  {
   "cell_type": "code",
   "execution_count": 66,
   "id": "improving-interstate",
   "metadata": {},
   "outputs": [],
   "source": [
    "import requests\n",
    "from bs4 import BeautifulSoup\n",
    "import pandas as pd\n",
    "import re"
   ]
  },
  {
   "cell_type": "code",
   "execution_count": 131,
   "id": "convinced-nightmare",
   "metadata": {
    "scrolled": false
   },
   "outputs": [],
   "source": [
    "daycare_center_info = list()\n",
    "for i in range(1,511):\n",
    "    link = 'https://iseoul.seoul.go.kr/portal/info/preSchoolList.do?pageIndex=' + str(i)\n",
    "    resp = requests.request('GET',link)\n",
    "    #print(resp.text)\n",
    "    soup = BeautifulSoup(resp.text, \"html.parser\")\n",
    "    for child in soup.find_all('tr')[1:]:\n",
    "        info_text = re.sub(r'\\\\r|t','',child.text).split()\n",
    "        idx = 0 \n",
    "        for item in info_text:\n",
    "            if re.findall(r'\\d{2,3}-\\d{3,4}-\\d{3,4}',item):\n",
    "                #print(idx)\n",
    "                break\n",
    "            idx += 1\n",
    "        index = info_text[0]\n",
    "        name = ' '.join(info_text[1:idx-3])\n",
    "        type = info_text[idx-3]\n",
    "        full_cap = info_text[idx-2] \n",
    "        cur_cap = info_text[idx-1]\n",
    "        num = info_text[idx]\n",
    "        address = ' '.join(info_text[idx + 1:])\n",
    "        daycare_center_info.append( [index,name,type,full_cap,cur_cap,num,address] )        "
   ]
  },
  {
   "cell_type": "code",
   "execution_count": 132,
   "id": "superb-breach",
   "metadata": {},
   "outputs": [],
   "source": [
    "daycare_center = pd.DataFrame(daycare_center_info)\n",
    "daycare_center.columns = ['index','name','type','full capacity','current capacity','phone number', 'address']"
   ]
  },
  {
   "cell_type": "code",
   "execution_count": 133,
   "id": "surprising-intervention",
   "metadata": {},
   "outputs": [
    {
     "data": {
      "text/html": [
       "<div>\n",
       "<style scoped>\n",
       "    .dataframe tbody tr th:only-of-type {\n",
       "        vertical-align: middle;\n",
       "    }\n",
       "\n",
       "    .dataframe tbody tr th {\n",
       "        vertical-align: top;\n",
       "    }\n",
       "\n",
       "    .dataframe thead th {\n",
       "        text-align: right;\n",
       "    }\n",
       "</style>\n",
       "<table border=\"1\" class=\"dataframe\">\n",
       "  <thead>\n",
       "    <tr style=\"text-align: right;\">\n",
       "      <th></th>\n",
       "      <th>index</th>\n",
       "      <th>name</th>\n",
       "      <th>type</th>\n",
       "      <th>full capacity</th>\n",
       "      <th>current capacity</th>\n",
       "      <th>phone number</th>\n",
       "      <th>address</th>\n",
       "    </tr>\n",
       "  </thead>\n",
       "  <tbody>\n",
       "    <tr>\n",
       "      <th>0</th>\n",
       "      <td>5100</td>\n",
       "      <td>예솔어린이집</td>\n",
       "      <td>가정</td>\n",
       "      <td>19명</td>\n",
       "      <td>10명</td>\n",
       "      <td>02-857-1113</td>\n",
       "      <td>서울특별시 금천구 벚꽃로 100 ,105동 102호 (독산제1동)</td>\n",
       "    </tr>\n",
       "    <tr>\n",
       "      <th>1</th>\n",
       "      <td>5099</td>\n",
       "      <td>반포예원어린이집</td>\n",
       "      <td>가정</td>\n",
       "      <td>13명</td>\n",
       "      <td>5명</td>\n",
       "      <td>02-537-3921</td>\n",
       "      <td>서울특별시 서초구 사평대로 240 ,502동 107호 (반포4동)</td>\n",
       "    </tr>\n",
       "    <tr>\n",
       "      <th>2</th>\n",
       "      <td>5098</td>\n",
       "      <td>구립푸른어린이집</td>\n",
       "      <td>국공립</td>\n",
       "      <td>33명</td>\n",
       "      <td>0명</td>\n",
       "      <td>010-2249-9250</td>\n",
       "      <td>서울특별시 동작구 동작대로35길 46 ,이수푸르지오더프레티움 관리동 (사당제2동)</td>\n",
       "    </tr>\n",
       "    <tr>\n",
       "      <th>3</th>\n",
       "      <td>5097</td>\n",
       "      <td>서초구립 라클라스어린이집</td>\n",
       "      <td>국공립</td>\n",
       "      <td>68명</td>\n",
       "      <td>51명</td>\n",
       "      <td>02-534-2122</td>\n",
       "      <td>서울특별시 서초구 서초중앙로 206 (반포1동)</td>\n",
       "    </tr>\n",
       "    <tr>\n",
       "      <th>4</th>\n",
       "      <td>5096</td>\n",
       "      <td>위례바른숲어린이집</td>\n",
       "      <td>국공립</td>\n",
       "      <td>70명</td>\n",
       "      <td>명</td>\n",
       "      <td>02-401-7001</td>\n",
       "      <td>서울특별시 송파구 위례송파로5길 16 (위례동)</td>\n",
       "    </tr>\n",
       "  </tbody>\n",
       "</table>\n",
       "</div>"
      ],
      "text/plain": [
       "  index           name type full capacity current capacity   phone number  \\\n",
       "0  5100         예솔어린이집   가정           19명              10명    02-857-1113   \n",
       "1  5099       반포예원어린이집   가정           13명               5명    02-537-3921   \n",
       "2  5098       구립푸른어린이집  국공립           33명               0명  010-2249-9250   \n",
       "3  5097  서초구립 라클라스어린이집  국공립           68명              51명    02-534-2122   \n",
       "4  5096      위례바른숲어린이집  국공립           70명                명    02-401-7001   \n",
       "\n",
       "                                         address  \n",
       "0           서울특별시 금천구 벚꽃로 100 ,105동 102호 (독산제1동)  \n",
       "1           서울특별시 서초구 사평대로 240 ,502동 107호 (반포4동)  \n",
       "2  서울특별시 동작구 동작대로35길 46 ,이수푸르지오더프레티움 관리동 (사당제2동)  \n",
       "3                     서울특별시 서초구 서초중앙로 206 (반포1동)  \n",
       "4                     서울특별시 송파구 위례송파로5길 16 (위례동)  "
      ]
     },
     "execution_count": 133,
     "metadata": {},
     "output_type": "execute_result"
    }
   ],
   "source": [
    "daycare_center.head()"
   ]
  },
  {
   "cell_type": "code",
   "execution_count": 134,
   "id": "progressive-roots",
   "metadata": {},
   "outputs": [
    {
     "data": {
      "text/html": [
       "<div>\n",
       "<style scoped>\n",
       "    .dataframe tbody tr th:only-of-type {\n",
       "        vertical-align: middle;\n",
       "    }\n",
       "\n",
       "    .dataframe tbody tr th {\n",
       "        vertical-align: top;\n",
       "    }\n",
       "\n",
       "    .dataframe thead th {\n",
       "        text-align: right;\n",
       "    }\n",
       "</style>\n",
       "<table border=\"1\" class=\"dataframe\">\n",
       "  <thead>\n",
       "    <tr style=\"text-align: right;\">\n",
       "      <th></th>\n",
       "      <th>index</th>\n",
       "      <th>name</th>\n",
       "      <th>type</th>\n",
       "      <th>full capacity</th>\n",
       "      <th>current capacity</th>\n",
       "      <th>phone number</th>\n",
       "      <th>address</th>\n",
       "    </tr>\n",
       "  </thead>\n",
       "  <tbody>\n",
       "  </tbody>\n",
       "</table>\n",
       "</div>"
      ],
      "text/plain": [
       "Empty DataFrame\n",
       "Columns: [index, name, type, full capacity, current capacity, phone number, address]\n",
       "Index: []"
      ]
     },
     "execution_count": 134,
     "metadata": {},
     "output_type": "execute_result"
    }
   ],
   "source": [
    "daycare_center[daycare_center['phone number'].map(lambda x:False if re.match('\\d{2,3}-\\d{3,4}-\\d{3,4}',x) else True)]"
   ]
  },
  {
   "cell_type": "code",
   "execution_count": 135,
   "id": "exotic-kelly",
   "metadata": {},
   "outputs": [],
   "source": [
    "daycare_center.drop(['index','type','full capacity','current capacity'], axis=1, inplace=True)"
   ]
  },
  {
   "cell_type": "code",
   "execution_count": 137,
   "id": "visible-species",
   "metadata": {},
   "outputs": [],
   "source": [
    "daycare_center.to_csv('daycare_center.csv')"
   ]
  },
  {
   "cell_type": "code",
   "execution_count": null,
   "id": "pregnant-paint",
   "metadata": {},
   "outputs": [],
   "source": []
  }
 ],
 "metadata": {
  "kernelspec": {
   "display_name": "Python 3",
   "language": "python",
   "name": "python3"
  },
  "language_info": {
   "codemirror_mode": {
    "name": "ipython",
    "version": 3
   },
   "file_extension": ".py",
   "mimetype": "text/x-python",
   "name": "python",
   "nbconvert_exporter": "python",
   "pygments_lexer": "ipython3",
   "version": "3.8.5"
  }
 },
 "nbformat": 4,
 "nbformat_minor": 5
}
